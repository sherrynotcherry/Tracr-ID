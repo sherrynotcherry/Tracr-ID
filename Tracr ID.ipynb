{
 "cells": [
  {
   "cell_type": "code",
   "execution_count": 1,
   "id": "dd20f83c-f97a-4895-b502-8e5d6e8031a2",
   "metadata": {},
   "outputs": [
    {
     "name": "stdout",
     "output_type": "stream",
     "text": [
      "Attempting to connect to: https://responsive-methodical-aura.ethereum-sepolia.quiknode.pro/2ddaf67fc7e399dd3114999cc134dbe970030317/\n",
      "Connected to Sepolia Testnet via QuickNode\n",
      "Current block number: 8047814\n",
      "Tracr ID: e7e543d8b437f01c379839fa9a04ddb1c0dda54a11174875aeb6802266962e2e\n",
      "Error recording to blockchain: 'SignedTransaction' object has no attribute 'rawTransaction'\n",
      "Verification Result: Invalid\n"
     ]
    }
   ],
   "source": [
    "# Import thư viện\n",
    "import hashlib\n",
    "from web3 import Web3\n",
    "\n",
    "# Kết nối với Sepolia qua QuickNode\n",
    "quicknode_url = \"https://responsive-methodical-aura.ethereum-sepolia.quiknode.pro/2ddaf67fc7e399dd3114999cc134dbe970030317/\"\n",
    "web3 = Web3(Web3.HTTPProvider(quicknode_url))\n",
    "\n",
    "# Kiểm tra kết nối\n",
    "print(\"Attempting to connect to:\", quicknode_url)\n",
    "if web3.is_connected():\n",
    "    print(\"Connected to Sepolia Testnet via QuickNode\")\n",
    "    print(\"Current block number:\", web3.eth.block_number)\n",
    "else:\n",
    "    print(\"Connection failed.\")\n",
    "    print(\"Possible reasons:\")\n",
    "    print(\"1. QuickNode URL might be incorrect. Check the URL.\")\n",
    "    print(\"2. No internet connection. Test your network.\")\n",
    "    print(\"3. QuickNode service might be down. Try again later.\")\n",
    "    raise Exception(\"Cannot proceed without blockchain connection\")\n",
    "\n",
    "# Tài khoản và private key (từ MetaMask)\n",
    "account = \"0x822EC9c6523fdddb6C7ca9C917f7a1212638541F\"  #Nhập địa chỉ account\n",
    "private_key = \"f212d6aa6c0f00b4f570e25b1feffe3a9d193365da60b807917b7a03972975e4\"  #Nhập private key\n",
    "\n",
    "# Hàm tạo \"dấu vân tay số\" từ dữ liệu kim cương\n",
    "def create_diamond_id(weight, clarity, color):\n",
    "    data = f\"{weight}{clarity}{color}\"\n",
    "    diamond_id = hashlib.sha256(data.encode()).hexdigest()\n",
    "    return diamond_id\n",
    "\n",
    "# Hàm ghi Diamond ID lên blockchain\n",
    "def record_to_blockchain(diamond_id):\n",
    "    nonce = web3.eth.get_transaction_count(account)\n",
    "    tx = {\n",
    "        'nonce': nonce,\n",
    "        'to': account,\n",
    "        'value': web3.to_wei(0, 'ether'),\n",
    "        'gas': 200000,\n",
    "        'gasPrice': web3.to_wei('50', 'gwei'),\n",
    "        'data': web3.to_hex(text=diamond_id),\n",
    "        'chainId': 11155111  # Chain ID của Sepolia\n",
    "    }\n",
    "    signed_tx = web3.eth.account.sign_transaction(tx, private_key)\n",
    "    tx_hash = web3.eth.send_raw_transaction(signed_tx.rawTransaction)\n",
    "    return tx_hash.hex()\n",
    "\n",
    "# Hàm xác minh\n",
    "def verify_diamond(original_id, new_weight, new_clarity, new_color):\n",
    "    new_id = create_diamond_id(new_weight, new_clarity, new_color)\n",
    "    return original_id == new_id\n",
    "\n",
    "# Thử nghiệm\n",
    "weight = 2.5\n",
    "clarity = \"VS1\"\n",
    "color = \"G\"\n",
    "\n",
    "diamond_id = create_diamond_id(weight, clarity, color)\n",
    "print(\"Tracr ID:\", diamond_id)\n",
    "\n",
    "try:\n",
    "    tx_hash = record_to_blockchain(diamond_id)\n",
    "    print(\"Transaction Hash:\", tx_hash)\n",
    "    print(\"View on Sepolia Explorer: https://sepolia.etherscan.io/tx/\" + tx_hash)\n",
    "except Exception as e:\n",
    "    print(\"Error recording to blockchain:\", e)\n",
    "\n",
    "new_weight = 1.8\n",
    "new_clarity = \"VS1\"\n",
    "new_color = \"G\"\n",
    "is_valid = verify_diamond(diamond_id, new_weight, new_clarity, new_color)\n",
    "print(\"Verification Result:\", \"Valid\" if is_valid else \"Invalid\")"
   ]
  }
 ],
 "metadata": {
  "kernelspec": {
   "display_name": "Python 3 (ipykernel)",
   "language": "python",
   "name": "python3"
  },
  "language_info": {
   "codemirror_mode": {
    "name": "ipython",
    "version": 3
   },
   "file_extension": ".py",
   "mimetype": "text/x-python",
   "name": "python",
   "nbconvert_exporter": "python",
   "pygments_lexer": "ipython3",
   "version": "3.11.7"
  }
 },
 "nbformat": 4,
 "nbformat_minor": 5
}
