{
 "cells": [
  {
   "cell_type": "code",
   "execution_count": null,
   "id": "dd20f83c-f97a-4895-b502-8e5d6e8031a2",
   "metadata": {},
   "outputs": [],
   "source": []
  }
 ],
 "metadata": {
  "kernelspec": {
   "display_name": "",
   "name": ""
  },
  "language_info": {
   "name": ""
  }
 },
 "nbformat": 4,
 "nbformat_minor": 5
}
